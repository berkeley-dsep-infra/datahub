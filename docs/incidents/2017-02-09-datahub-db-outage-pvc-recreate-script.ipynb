{
 "cells": [
  {
   "cell_type": "code",
   "execution_count": 32,
   "metadata": {
    "collapsed": true
   },
   "outputs": [],
   "source": [
    "import pandas as pd\n",
    "import numpy as np"
   ]
  },
  {
   "cell_type": "code",
   "execution_count": 10,
   "metadata": {
    "collapsed": false,
    "scrolled": true
   },
   "outputs": [
    {
     "name": "stdout",
     "output_type": "stream",
     "text": [
      "NAME,STATUS,VOLUME,CAPACITY,ACCESSMODES,AGE\r\n",
      "claim-redacted-205,Bound,pvc-5643aadf-ddb3-11e6-98ef-42010af000c3,10Gi,RWO,21d\r\n",
      "claim-redacted-1088,Bound,pvc-bc68d752-ecba-11e6-98ef-42010af000c3,10Gi,RWO,2d\r\n",
      "claim-redacted-389,Bound,pvc-5d67d43e-ddcb-11e6-98ef-42010af000c3,10Gi,RWO,21d\r\n",
      "claim-redacted-119,Bound,pvc-73c5d644-ddb1-11e6-98ef-42010af000c3,10Gi,RWO,21d\r\n",
      "claim-redacted-64,Bound,pvc-3c2345e4-dd9f-11e6-98ef-42010af000c3,10Gi,RWO,21d\r\n",
      "claim-redacted-192,Bound,pvc-51b672a8-ddb3-11e6-98ef-42010af000c3,10Gi,RWO,21d\r\n",
      "claim-redacted-814,Bound,pvc-2b83ae02-dee0-11e6-98ef-42010af000c3,10Gi,RWO,20d\r\n",
      "claim-redacted-775,Bound,pvc-ec1d47be-deb0-11e6-98ef-42010af000c3,10Gi,RWO,20d\r\n",
      "claim-redacted-954,Bound,pvc-5a0acdc5-e3ee-11e6-98ef-42010af000c3,10Gi,RWO,13d\r\n"
     ]
    }
   ],
   "source": [
    "!head pvcs.csv"
   ]
  },
  {
   "cell_type": "code",
   "execution_count": 14,
   "metadata": {
    "collapsed": false
   },
   "outputs": [
    {
     "data": {
      "text/html": [
       "<div>\n",
       "<table border=\"1\" class=\"dataframe\">\n",
       "  <thead>\n",
       "    <tr style=\"text-align: right;\">\n",
       "      <th></th>\n",
       "      <th>STATUS</th>\n",
       "      <th>VOLUME</th>\n",
       "      <th>CAPACITY</th>\n",
       "      <th>ACCESSMODES</th>\n",
       "      <th>AGE</th>\n",
       "    </tr>\n",
       "    <tr>\n",
       "      <th>NAME</th>\n",
       "      <th></th>\n",
       "      <th></th>\n",
       "      <th></th>\n",
       "      <th></th>\n",
       "      <th></th>\n",
       "    </tr>\n",
       "  </thead>\n",
       "  <tbody>\n",
       "    <tr>\n",
       "      <th>claim-redacted-205</th>\n",
       "      <td>Bound</td>\n",
       "      <td>pvc-5643aadf-ddb3-11e6-98ef-42010af000c3</td>\n",
       "      <td>10Gi</td>\n",
       "      <td>RWO</td>\n",
       "      <td>21d</td>\n",
       "    </tr>\n",
       "    <tr>\n",
       "      <th>claim-redacted-1088</th>\n",
       "      <td>Bound</td>\n",
       "      <td>pvc-bc68d752-ecba-11e6-98ef-42010af000c3</td>\n",
       "      <td>10Gi</td>\n",
       "      <td>RWO</td>\n",
       "      <td>2d</td>\n",
       "    </tr>\n",
       "    <tr>\n",
       "      <th>claim-redacted-389</th>\n",
       "      <td>Bound</td>\n",
       "      <td>pvc-5d67d43e-ddcb-11e6-98ef-42010af000c3</td>\n",
       "      <td>10Gi</td>\n",
       "      <td>RWO</td>\n",
       "      <td>21d</td>\n",
       "    </tr>\n",
       "    <tr>\n",
       "      <th>claim-redacted-119</th>\n",
       "      <td>Bound</td>\n",
       "      <td>pvc-73c5d644-ddb1-11e6-98ef-42010af000c3</td>\n",
       "      <td>10Gi</td>\n",
       "      <td>RWO</td>\n",
       "      <td>21d</td>\n",
       "    </tr>\n",
       "    <tr>\n",
       "      <th>claim-redacted-64</th>\n",
       "      <td>Bound</td>\n",
       "      <td>pvc-3c2345e4-dd9f-11e6-98ef-42010af000c3</td>\n",
       "      <td>10Gi</td>\n",
       "      <td>RWO</td>\n",
       "      <td>21d</td>\n",
       "    </tr>\n",
       "  </tbody>\n",
       "</table>\n",
       "</div>"
      ],
      "text/plain": [
       "                           STATUS                                    VOLUME  \\\n",
       "NAME                                                                          \n",
       "claim-redacted-205       Bound  pvc-5643aadf-ddb3-11e6-98ef-42010af000c3   \n",
       "claim-redacted-1088           Bound  pvc-bc68d752-ecba-11e6-98ef-42010af000c3   \n",
       "claim-redacted-389            Bound  pvc-5d67d43e-ddcb-11e6-98ef-42010af000c3   \n",
       "claim-redacted-119  Bound  pvc-73c5d644-ddb1-11e6-98ef-42010af000c3   \n",
       "claim-redacted-64           Bound  pvc-3c2345e4-dd9f-11e6-98ef-42010af000c3   \n",
       "\n",
       "                           CAPACITY ACCESSMODES  AGE  \n",
       "NAME                                                  \n",
       "claim-redacted-205          10Gi         RWO  21d  \n",
       "claim-redacted-1088              10Gi         RWO   2d  \n",
       "claim-redacted-389               10Gi         RWO  21d  \n",
       "claim-redacted-119     10Gi         RWO  21d  \n",
       "claim-redacted-64              10Gi         RWO  21d  "
      ]
     },
     "execution_count": 14,
     "metadata": {},
     "output_type": "execute_result"
    }
   ],
   "source": [
    "df = pd.DataFrame.from_csv('pvcs.csv')\n",
    "df.head()"
   ]
  },
  {
   "cell_type": "code",
   "execution_count": 152,
   "metadata": {
    "collapsed": false
   },
   "outputs": [
    {
     "name": "stderr",
     "output_type": "stream",
     "text": [
      "/Users/redacted/anaconda3/lib/python3.5/site-packages/ipykernel/__main__.py:1: FutureWarning: currently extract(expand=None) means expand=False (return Index/Series/DataFrame) but in a future version of pandas this will be changed to expand=True (return DataFrame)\n",
      "  if __name__ == '__main__':\n",
      "/Users/redacted/anaconda3/lib/python3.5/site-packages/ipykernel/__main__.py:2: FutureWarning: currently extract(expand=None) means expand=False (return Index/Series/DataFrame) but in a future version of pandas this will be changed to expand=True (return DataFrame)\n",
      "  from ipykernel import kernelapp as app\n"
     ]
    },
    {
     "data": {
      "text/html": [
       "<div>\n",
       "<table border=\"1\" class=\"dataframe\">\n",
       "  <thead>\n",
       "    <tr style=\"text-align: right;\">\n",
       "      <th></th>\n",
       "      <th>STATUS</th>\n",
       "      <th>VOLUME</th>\n",
       "      <th>CAPACITY</th>\n",
       "      <th>ACCESSMODES</th>\n",
       "      <th>AGE</th>\n",
       "      <th>username</th>\n",
       "      <th>id</th>\n",
       "    </tr>\n",
       "    <tr>\n",
       "      <th>NAME</th>\n",
       "      <th></th>\n",
       "      <th></th>\n",
       "      <th></th>\n",
       "      <th></th>\n",
       "      <th></th>\n",
       "      <th></th>\n",
       "      <th></th>\n",
       "    </tr>\n",
       "  </thead>\n",
       "  <tbody>\n",
       "    <tr>\n",
       "      <th>claim-redacted-205</th>\n",
       "      <td>Bound</td>\n",
       "      <td>pvc-5643aadf-ddb3-11e6-98ef-42010af000c3</td>\n",
       "      <td>10Gi</td>\n",
       "      <td>RWO</td>\n",
       "      <td>21d</td>\n",
       "      <td>redacted<td>\n",
       "      <td>205</td>\n",
       "    </tr>\n",
       "    <tr>\n",
       "      <th>claim-redacted-1088</th>\n",
       "      <td>Bound</td>\n",
       "      <td>pvc-bc68d752-ecba-11e6-98ef-42010af000c3</td>\n",
       "      <td>10Gi</td>\n",
       "      <td>RWO</td>\n",
       "      <td>2d</td>\n",
       "      <td>redacted</td>\n",
       "      <td>1088</td>\n",
       "    </tr>\n",
       "    <tr>\n",
       "      <th>claim-redacted-389</th>\n",
       "      <td>Bound</td>\n",
       "      <td>pvc-5d67d43e-ddcb-11e6-98ef-42010af000c3</td>\n",
       "      <td>10Gi</td>\n",
       "      <td>RWO</td>\n",
       "      <td>21d</td>\n",
       "      <td>redacted</td>\n",
       "      <td>389</td>\n",
       "    </tr>\n",
       "    <tr>\n",
       "      <th>claim-redacted-119</th>\n",
       "      <td>Bound</td>\n",
       "      <td>pvc-73c5d644-ddb1-11e6-98ef-42010af000c3</td>\n",
       "      <td>10Gi</td>\n",
       "      <td>RWO</td>\n",
       "      <td>21d</td>\n",
       "      <td>redacted</td>\n",
       "      <td>119</td>\n",
       "    </tr>\n",
       "    <tr>\n",
       "      <th>claim-redacted-64</th>\n",
       "      <td>Bound</td>\n",
       "      <td>pvc-3c2345e4-dd9f-11e6-98ef-42010af000c3</td>\n",
       "      <td>10Gi</td>\n",
       "      <td>RWO</td>\n",
       "      <td>21d</td>\n",
       "      <td>redacted</td>\n",
       "      <td>64</td>\n",
       "    </tr>\n",
       "  </tbody>\n",
       "</table>\n",
       "</div>"
      ],
      "text/plain": [
       "                           STATUS                                    VOLUME  \\\n",
       "NAME                                                                          \n",
       "claim-redacted-205       Bound  pvc-5643aadf-ddb3-11e6-98ef-42010af000c3   \n",
       "claim-redacted-1088           Bound  pvc-bc68d752-ecba-11e6-98ef-42010af000c3   \n",
       "claim-redacted-389            Bound  pvc-5d67d43e-ddcb-11e6-98ef-42010af000c3   \n",
       "claim-redacted-119  Bound  pvc-73c5d644-ddb1-11e6-98ef-42010af000c3   \n",
       "claim-redacted-64           Bound  pvc-3c2345e4-dd9f-11e6-98ef-42010af000c3   \n",
       "\n",
       "                           CAPACITY ACCESSMODES  AGE          username    id  \n",
       "NAME                                                                          \n",
       "claim-redacted-205          10Gi         RWO  21d       redacted   205  \n",
       "claim-redacted-1088              10Gi         RWO   2d            redacted  1088  \n",
       "claim-redacted-389               10Gi         RWO  21d            a-shao   389  \n",
       "claim-redacted-119     10Gi         RWO  21d  redacted   119  \n",
       "claim-redacted-64              10Gi         RWO  21d          redacted    64  "
      ]
     },
     "execution_count": 152,
     "metadata": {},
     "output_type": "execute_result"
    }
   ],
   "source": [
    "df['username'] = np.array(df.index.str.extract('\\w+-([\\w-]+)-\\d+$'))\n",
    "df['id'] = np.array(df.index.str.extract('\\w+-\\w+-(\\d+)$'))\n",
    "df.head()"
   ]
  },
  {
   "cell_type": "code",
   "execution_count": 153,
   "metadata": {
    "collapsed": false
   },
   "outputs": [
    {
     "data": {
      "text/html": [
       "<div>\n",
       "<table border=\"1\" class=\"dataframe\">\n",
       "  <thead>\n",
       "    <tr style=\"text-align: right;\">\n",
       "      <th></th>\n",
       "      <th>STATUS</th>\n",
       "      <th>VOLUME</th>\n",
       "      <th>CAPACITY</th>\n",
       "      <th>ACCESSMODES</th>\n",
       "      <th>AGE</th>\n",
       "      <th>username</th>\n",
       "      <th>id</th>\n",
       "    </tr>\n",
       "    <tr>\n",
       "      <th>NAME</th>\n",
       "      <th></th>\n",
       "      <th></th>\n",
       "      <th></th>\n",
       "      <th></th>\n",
       "      <th></th>\n",
       "      <th></th>\n",
       "      <th></th>\n",
       "    </tr>\n",
       "  </thead>\n",
       "  <tbody>\n",
       "    <tr>\n",
       "      <th>claim-redacted-562</th>\n",
       "      <td>Bound</td>\n",
       "      <td>pvc-4418d1d6-de0a-11e6-98ef-42010af000c3</td>\n",
       "      <td>10Gi</td>\n",
       "      <td>RWO</td>\n",
       "      <td>21d</td>\n",
       "      <td>redacted</td>\n",
       "      <td>562</td>\n",
       "    </tr>\n",
       "    <tr>\n",
       "      <th>claim-redacted-400</th>\n",
       "      <td>Bound</td>\n",
       "      <td>pvc-2399fe54-ddcf-11e6-98ef-42010af000c3</td>\n",
       "      <td>10Gi</td>\n",
       "      <td>RWO</td>\n",
       "      <td>21d</td>\n",
       "      <td>redacted</td>\n",
       "      <td>400</td>\n",
       "    </tr>\n",
       "    <tr>\n",
       "      <th>claim-redacted-946</th>\n",
       "      <td>Bound</td>\n",
       "      <td>pvc-294cb2c7-e35e-11e6-98ef-42010af000c3</td>\n",
       "      <td>10Gi</td>\n",
       "      <td>RWO</td>\n",
       "      <td>14d</td>\n",
       "      <td>redacted</td>\n",
       "      <td>946</td>\n",
       "    </tr>\n",
       "    <tr>\n",
       "      <th>claim-redacted-900</th>\n",
       "      <td>Bound</td>\n",
       "      <td>pvc-f6859607-e1c0-11e6-98ef-42010af000c3</td>\n",
       "      <td>10Gi</td>\n",
       "      <td>RWO</td>\n",
       "      <td>16d</td>\n",
       "      <td>redacted</td>\n",
       "      <td>900</td>\n",
       "    </tr>\n",
       "    <tr>\n",
       "      <th>hub-db-dir</th>\n",
       "      <td>Bound</td>\n",
       "      <td>pvc-ea8a0bef-dd44-11e6-98ef-42010af000c3</td>\n",
       "      <td>10Gi</td>\n",
       "      <td>RWO</td>\n",
       "      <td>22d</td>\n",
       "      <td>NaN</td>\n",
       "      <td>NaN</td>\n",
       "    </tr>\n",
       "  </tbody>\n",
       "</table>\n",
       "</div>"
      ],
      "text/plain": [
       "                          STATUS                                    VOLUME  \\\n",
       "NAME                                                                         \n",
       "claim-redacted-562          Bound  pvc-4418d1d6-de0a-11e6-98ef-42010af000c3   \n",
       "claim-redacted-400  Bound  pvc-2399fe54-ddcf-11e6-98ef-42010af000c3   \n",
       "claim-redacted-946        Bound  pvc-294cb2c7-e35e-11e6-98ef-42010af000c3   \n",
       "claim-redacted-900   Bound  pvc-f6859607-e1c0-11e6-98ef-42010af000c3   \n",
       "hub-db-dir                 Bound  pvc-ea8a0bef-dd44-11e6-98ef-42010af000c3   \n",
       "\n",
       "                          CAPACITY ACCESSMODES  AGE         username   id  \n",
       "NAME                                                                       \n",
       "claim-redacted-562             10Gi         RWO  21d          redacted  562  \n",
       "claim-redacted-400     10Gi         RWO  21d  redacted  400  \n",
       "claim-redacted-946           10Gi         RWO  14d        redacted  946  \n",
       "claim-redacted-900      10Gi         RWO  16d   redacted  900  \n",
       "hub-db-dir                    10Gi         RWO  22d              NaN  NaN  "
      ]
     },
     "execution_count": 153,
     "metadata": {},
     "output_type": "execute_result"
    }
   ],
   "source": [
    "df.tail()"
   ]
  },
  {
   "cell_type": "code",
   "execution_count": 159,
   "metadata": {
    "collapsed": false,
    "scrolled": true
   },
   "outputs": [
    {
     "data": {
      "text/html": [
       "<div>\n",
       "<table border=\"1\" class=\"dataframe\">\n",
       "  <thead>\n",
       "    <tr style=\"text-align: right;\">\n",
       "      <th></th>\n",
       "      <th>STATUS</th>\n",
       "      <th>VOLUME</th>\n",
       "      <th>CAPACITY</th>\n",
       "      <th>ACCESSMODES</th>\n",
       "      <th>AGE</th>\n",
       "      <th>username</th>\n",
       "      <th>id</th>\n",
       "    </tr>\n",
       "    <tr>\n",
       "      <th>NAME</th>\n",
       "      <th></th>\n",
       "      <th></th>\n",
       "      <th></th>\n",
       "      <th></th>\n",
       "      <th></th>\n",
       "      <th></th>\n",
       "      <th></th>\n",
       "    </tr>\n",
       "  </thead>\n",
       "  <tbody>\n",
       "    <tr>\n",
       "      <th>claim-redacted-205</th>\n",
       "      <td>Bound</td>\n",
       "      <td>pvc-5643aadf-ddb3-11e6-98ef-42010af000c3</td>\n",
       "      <td>10Gi</td>\n",
       "      <td>RWO</td>\n",
       "      <td>21d</td>\n",
       "      <td>redacted</td>\n",
       "      <td>205</td>\n",
       "    </tr>\n",
       "    <tr>\n",
       "      <th>claim-redacted-1088</th>\n",
       "      <td>Bound</td>\n",
       "      <td>pvc-bc68d752-ecba-11e6-98ef-42010af000c3</td>\n",
       "      <td>10Gi</td>\n",
       "      <td>RWO</td>\n",
       "      <td>2d</td>\n",
       "      <td>redacted</td>\n",
       "      <td>1088</td>\n",
       "    </tr>\n",
       "    <tr>\n",
       "      <th>claim-redacted-389</th>\n",
       "      <td>Bound</td>\n",
       "      <td>pvc-5d67d43e-ddcb-11e6-98ef-42010af000c3</td>\n",
       "      <td>10Gi</td>\n",
       "      <td>RWO</td>\n",
       "      <td>21d</td>\n",
       "      <td>redacted</td>\n",
       "      <td>389</td>\n",
       "    </tr>\n",
       "    <tr>\n",
       "      <th>claim-redacted-119</th>\n",
       "      <td>Bound</td>\n",
       "      <td>pvc-73c5d644-ddb1-11e6-98ef-42010af000c3</td>\n",
       "      <td>10Gi</td>\n",
       "      <td>RWO</td>\n",
       "      <td>21d</td>\n",
       "      <td>redacted</td>\n",
       "      <td>119</td>\n",
       "    </tr>\n",
       "    <tr>\n",
       "      <th>claim-redacted-64</th>\n",
       "      <td>Bound</td>\n",
       "      <td>pvc-3c2345e4-dd9f-11e6-98ef-42010af000c3</td>\n",
       "      <td>10Gi</td>\n",
       "      <td>RWO</td>\n",
       "      <td>21d</td>\n",
       "      <td>redacted</td>\n",
       "      <td>64</td>\n",
       "    </tr>\n",
       "  </tbody>\n",
       "</table>\n",
       "</div>"
      ],
      "text/plain": [
       "                           STATUS                                    VOLUME  \\\n",
       "NAME                                                                          \n",
       "claim-redacted-205       Bound  pvc-5643aadf-ddb3-11e6-98ef-42010af000c3   \n",
       "claim-redacted-1088           Bound  pvc-bc68d752-ecba-11e6-98ef-42010af000c3   \n",
       "claim-redacted-389            Bound  pvc-5d67d43e-ddcb-11e6-98ef-42010af000c3   \n",
       "claim-redacted-119  Bound  pvc-73c5d644-ddb1-11e6-98ef-42010af000c3   \n",
       "claim-redacted-64           Bound  pvc-3c2345e4-dd9f-11e6-98ef-42010af000c3   \n",
       "\n",
       "                           CAPACITY ACCESSMODES  AGE          username    id  \n",
       "NAME                                                                          \n",
       "claim-redacted-205          10Gi         RWO  21d       redacted   205  \n",
       "claim-redacted-1088              10Gi         RWO   2d            redacted  1088  \n",
       "claim-redacted-389               10Gi         RWO  21d            a-shao   389  \n",
       "claim-redacted-119     10Gi         RWO  21d  redacted   119  \n",
       "claim-redacted-64              10Gi         RWO  21d          redacted    64  "
      ]
     },
     "execution_count": 159,
     "metadata": {},
     "output_type": "execute_result"
    }
   ],
   "source": [
    "valids = df[~df['AGE'].str.contains('m')].dropna()\n",
    "valids = valids[valids['id'] != '14']\n",
    "valids.head()"
   ]
  },
  {
   "cell_type": "code",
   "execution_count": 161,
   "metadata": {
    "collapsed": false
   },
   "outputs": [
    {
     "data": {
      "text/plain": [
       "redacted              1\n",
       "redacted    1\n",
       "redacted              1\n",
       "redacted            1\n",
       "redacted         1\n",
       "Name: username, dtype: int64"
      ]
     },
     "execution_count": 161,
     "metadata": {},
     "output_type": "execute_result"
    }
   ],
   "source": [
    "valids['username'].head().value_counts()"
   ]
  },
  {
   "cell_type": "code",
   "execution_count": 162,
   "metadata": {
    "collapsed": false
   },
   "outputs": [
    {
     "data": {
      "text/plain": [
       "400     1\n",
       "90      1\n",
       "756     1\n",
       "488     1\n",
       "1029    1\n",
       "Name: id, dtype: int64"
      ]
     },
     "execution_count": 162,
     "metadata": {},
     "output_type": "execute_result"
    }
   ],
   "source": [
    "valids['id'].value_counts().head()"
   ]
  },
  {
   "cell_type": "code",
   "execution_count": 163,
   "metadata": {
    "collapsed": false
   },
   "outputs": [
    {
     "data": {
      "text/plain": [
       "1105"
      ]
     },
     "execution_count": 163,
     "metadata": {},
     "output_type": "execute_result"
    }
   ],
   "source": [
    "len(valids['id'])"
   ]
  },
  {
   "cell_type": "code",
   "execution_count": 55,
   "metadata": {
    "collapsed": true
   },
   "outputs": [],
   "source": [
    "import sqlite3\n",
    "conn = sqlite3.connect('jupyterhub.sqlite')\n",
    "c = conn.cursor()"
   ]
  },
  {
   "cell_type": "code",
   "execution_count": 94,
   "metadata": {
    "collapsed": false
   },
   "outputs": [
    {
     "data": {
      "text/plain": [
       "[(0, 'id', 'INTEGER', 1, None, 1),\n",
       " (1, 'name', 'VARCHAR(1023)', 0, None, 0),\n",
       " (2, '_server_id', 'INTEGER', 0, None, 0),\n",
       " (3, 'admin', 'BOOLEAN', 0, None, 0),\n",
       " (4, 'last_activity', 'DATETIME', 0, None, 0),\n",
       " (5, 'cookie_id', 'VARCHAR(1023)', 0, None, 0),\n",
       " (6, 'state', 'TEXT', 0, None, 0),\n",
       " (7, 'auth_state', 'TEXT', 0, None, 0)]"
      ]
     },
     "execution_count": 94,
     "metadata": {},
     "output_type": "execute_result"
    }
   ],
   "source": [
    "c.execute('PRAGMA TABLE_INFO({})'.format('users'))\n",
    "\n",
    "c.fetchall()"
   ]
  },
  {
   "cell_type": "code",
   "execution_count": 66,
   "metadata": {
    "collapsed": false
   },
   "outputs": [
    {
     "data": {
      "text/plain": [
       "[(1,\n",
       "  'redacted',\n",
       "  None,\n",
       "  1,\n",
       "  '2017-02-09 09:07:03.936620',\n",
       "  '8ec09f8def774b668e838d1e70e00329',\n",
       "  None,\n",
       "  None),\n",
       " (2,\n",
       "  'redacted',\n",
       "  None,\n",
       "  1,\n",
       "  '2017-02-09 09:07:03.938610',\n",
       "  'c98f59afc1fe4a70b18b451ac1190d45',\n",
       "  None,\n",
       "  None)]"
      ]
     },
     "execution_count": 66,
     "metadata": {},
     "output_type": "execute_result"
    }
   ],
   "source": [
    "c.execute('SELECT * FROM users LIMIT 20')\n",
    "current_users = c.fetchall()\n",
    "current_users[:2]"
   ]
  },
  {
   "cell_type": "code",
   "execution_count": 164,
   "metadata": {
    "collapsed": false
   },
   "outputs": [
    {
     "data": {
      "text/plain": [
       "{'redacted',\n",
       " 'redacted',\n",
       " 'redacted',\n",
       " 'redacted',\n",
       " 'redacted',\n",
       " 'redacted',\n",
       " 'redacted',\n",
       " 'redacted',\n",
       " 'redacted',\n",
       " 'redacted',\n",
       " 'redacted',\n",
       " 'redacted',\n",
       " 'redacted',\n",
       " 'redacted',\n",
       " 'redacted',\n",
       " 'redacted',\n",
       " 'redacted',\n",
       " 'redacted',\n",
       " 'redacted',\n",
       " 'redacted'}"
      ]
     },
     "execution_count": 164,
     "metadata": {},
     "output_type": "execute_result"
    }
   ],
   "source": [
    "admins = {user[1] for user in current_users if user[3] == 1}\n",
    "admins"
   ]
  },
  {
   "cell_type": "code",
   "execution_count": 73,
   "metadata": {
    "collapsed": false
   },
   "outputs": [
    {
     "ename": "OperationalError",
     "evalue": "near \"FROM\": syntax error",
     "output_type": "error",
     "traceback": [
      "\u001b[0;31m---------------------------------------------------------------------------\u001b[0m",
      "\u001b[0;31mOperationalError\u001b[0m                          Traceback (most recent call last)",
      "\u001b[0;32m<ipython-input-73-a8eb9e4f2c5d>\u001b[0m in \u001b[0;36m<module>\u001b[0;34m()\u001b[0m\n\u001b[0;32m----> 1\u001b[0;31m \u001b[0mc\u001b[0m\u001b[0;34m.\u001b[0m\u001b[0mexecute\u001b[0m\u001b[0;34m(\u001b[0m\u001b[0;34m'DROP FROM users where id > -1'\u001b[0m\u001b[0;34m)\u001b[0m\u001b[0;34m\u001b[0m\u001b[0m\n\u001b[0m\u001b[1;32m      2\u001b[0m \u001b[0mc\u001b[0m\u001b[0;34m.\u001b[0m\u001b[0mfetchall\u001b[0m\u001b[0;34m(\u001b[0m\u001b[0;34m)\u001b[0m\u001b[0;34m\u001b[0m\u001b[0m\n",
      "\u001b[0;31mOperationalError\u001b[0m: near \"FROM\": syntax error"
     ]
    }
   ],
   "source": [
    "# I just did this manually in the sqlite3 CLI\n",
    "# c.execute('DROP FROM users where id > -1')\n",
    "# c.fetchall()"
   ]
  },
  {
   "cell_type": "code",
   "execution_count": 165,
   "metadata": {
    "collapsed": false
   },
   "outputs": [
    {
     "data": {
      "text/plain": [
       "[(205,\n",
       "  'redacted',\n",
       "  'NULL',\n",
       "  0,\n",
       "  '2017-02-09 09:07:03.936620',\n",
       "  'thisisadummycookiehopefullyitworks',\n",
       "  'NULL',\n",
       "  'NULL'),\n",
       " (1088,\n",
       "  'redacted',\n",
       "  'NULL',\n",
       "  0,\n",
       "  '2017-02-09 09:07:03.936620',\n",
       "  'thisisadummycookiehopefullyitworks',\n",
       "  'NULL',\n",
       "  'NULL'),\n",
       " (389,\n",
       "  'redacted',\n",
       "  'NULL',\n",
       "  0,\n",
       "  '2017-02-09 09:07:03.936620',\n",
       "  'thisisadummycookiehopefullyitworks',\n",
       "  'NULL',\n",
       "  'NULL')]"
      ]
     },
     "execution_count": 165,
     "metadata": {},
     "output_type": "execute_result"
    }
   ],
   "source": [
    "import datetime\n",
    "import itertools\n",
    "\n",
    "records = list(zip(\n",
    "    valids['id'].astype(int),\n",
    "    valids['username'],\n",
    "    itertools.repeat('NULL'),\n",
    "    [1 if name in admins else 0 for name in valids['username']],\n",
    "#     itertools.repeat('NULL'), # Pick a random valid value\n",
    "    itertools.repeat('2017-02-09 09:07:03.936620'), # Pick a random valid value\n",
    "    itertools.repeat('thisisadummycookiehopefullyitworks'),\n",
    "    itertools.repeat('NULL'),\n",
    "    itertools.repeat('NULL')\n",
    "))\n",
    "records[:3]"
   ]
  },
  {
   "cell_type": "code",
   "execution_count": 166,
   "metadata": {
    "collapsed": false
   },
   "outputs": [
    {
     "data": {
      "text/plain": [
       "\"INSERT INTO users VALUES(205, 'redacted', NULL, '0', '2017-02-09 09:07:03.936620', 'thisisadummycookiehopefullyitworks', NULL, NULL)\""
      ]
     },
     "execution_count": 166,
     "metadata": {},
     "output_type": "execute_result"
    }
   ],
   "source": [
    "# I hate everything\n",
    "def record_to_sql(record):\n",
    "    return \"INSERT INTO users VALUES({}, '{}', {}, '{}', '{}', '{}', {}, {})\".format(\n",
    "        *record\n",
    "    )\n",
    "\n",
    "sql_statements = [record_to_sql(record) for record in records]\n",
    "record_to_sql(records[0])"
   ]
  },
  {
   "cell_type": "markdown",
   "metadata": {},
   "source": [
    "```\n",
    "[(0, 'id', 'INTEGER', 1, None, 1),\n",
    " (1, 'name', 'VARCHAR(1023)', 0, None, 0),\n",
    " (2, '_server_id', 'INTEGER', 0, None, 0),\n",
    " (3, 'admin', 'BOOLEAN', 0, None, 0),\n",
    " (4, 'last_activity', 'DATETIME', 0, None, 0),\n",
    " (5, 'cookie_id', 'VARCHAR(1023)', 0, None, 0),\n",
    " (6, 'state', 'TEXT', 0, None, 0),\n",
    " (7, 'auth_state', 'TEXT', 0, None, 0)]\n",
    "```"
   ]
  },
  {
   "cell_type": "code",
   "execution_count": 167,
   "metadata": {
    "collapsed": false
   },
   "outputs": [],
   "source": [
    "with conn:\n",
    "    c = conn.cursor()\n",
    "    for statement in sql_statements:\n",
    "        c.execute(statement)"
   ]
  },
  {
   "cell_type": "code",
   "execution_count": 173,
   "metadata": {
    "collapsed": false
   },
   "outputs": [
    {
     "data": {
      "text/plain": [
       "[(2,\n",
       "  'redacted',\n",
       "  None,\n",
       "  0,\n",
       "  '2017-02-09 09:07:03.936620',\n",
       "  'thisisadummycookiehopefullyitworks',\n",
       "  None,\n",
       "  None),\n",
       " (3,\n",
       "  'redacted',\n",
       "  None,\n",
       "  0,\n",
       "  '2017-02-09 09:07:03.936620',\n",
       "  'thisisadummycookiehopefullyitworks',\n",
       "  None,\n",
       "  None),\n",
       " (4,\n",
       "  'redacted',\n",
       "  None,\n",
       "  0,\n",
       "  '2017-02-09 09:07:03.936620',\n",
       "  'thisisadummycookiehopefullyitworks',\n",
       "  None,\n",
       "  None),\n",
       " (5,\n",
       "  'redacted',\n",
       "  None,\n",
       "  0,\n",
       "  '2017-02-09 09:07:03.936620',\n",
       "  'thisisadummycookiehopefullyitworks',\n",
       "  None,\n",
       "  None),\n",
       " (6,\n",
       "  'redacted',\n",
       "  None,\n",
       "  1,\n",
       "  '2017-02-09 09:07:03.936620',\n",
       "  'thisisadummycookiehopefullyitworks',\n",
       "  None,\n",
       "  None),\n",
       " (7,\n",
       "  'redacted',\n",
       "  None,\n",
       "  0,\n",
       "  '2017-02-09 09:07:03.936620',\n",
       "  'thisisadummycookiehopefullyitworks',\n",
       "  None,\n",
       "  None),\n",
       " (8,\n",
       "  'redacted',\n",
       "  None,\n",
       "  0,\n",
       "  '2017-02-09 09:07:03.936620',\n",
       "  'thisisadummycookiehopefullyitworks',\n",
       "  None,\n",
       "  None),\n",
       " (9,\n",
       "  'redacted',\n",
       "  None,\n",
       "  0,\n",
       "  '2017-02-09 09:07:03.936620',\n",
       "  'thisisadummycookiehopefullyitworks',\n",
       "  None,\n",
       "  None),\n",
       " (10,\n",
       "  'redacted',\n",
       "  None,\n",
       "  0,\n",
       "  '2017-02-09 09:07:03.936620',\n",
       "  'thisisadummycookiehopefullyitworks',\n",
       "  None,\n",
       "  None),\n",
       " (11,\n",
       "  'redacted',\n",
       "  None,\n",
       "  0,\n",
       "  '2017-02-09 09:07:03.936620',\n",
       "  'thisisadummycookiehopefullyitworks',\n",
       "  None,\n",
       "  None),\n",
       " (12,\n",
       "  'redacted',\n",
       "  None,\n",
       "  0,\n",
       "  '2017-02-09 09:07:03.936620',\n",
       "  'thisisadummycookiehopefullyitworks',\n",
       "  None,\n",
       "  None),\n",
       " (13,\n",
       "  'redacted',\n",
       "  None,\n",
       "  0,\n",
       "  '2017-02-09 09:07:03.936620',\n",
       "  'thisisadummycookiehopefullyitworks',\n",
       "  None,\n",
       "  None),\n",
       " (15,\n",
       "  'redacted',\n",
       "  None,\n",
       "  0,\n",
       "  '2017-02-09 09:07:03.936620',\n",
       "  'thisisadummycookiehopefullyitworks',\n",
       "  None,\n",
       "  None),\n",
       " (17,\n",
       "  'redacted',\n",
       "  None,\n",
       "  0,\n",
       "  '2017-02-09 09:07:03.936620',\n",
       "  'thisisadummycookiehopefullyitworks',\n",
       "  None,\n",
       "  None),\n",
       " (18,\n",
       "  'redacted',\n",
       "  None,\n",
       "  0,\n",
       "  '2017-02-09 09:07:03.936620',\n",
       "  'thisisadummycookiehopefullyitworks',\n",
       "  None,\n",
       "  None),\n",
       " (19,\n",
       "  'redacted',\n",
       "  None,\n",
       "  1,\n",
       "  '2017-02-09 09:07:03.936620',\n",
       "  'thisisadummycookiehopefullyitworks',\n",
       "  None,\n",
       "  None),\n",
       " (20,\n",
       "  'redacted',\n",
       "  None,\n",
       "  1,\n",
       "  '2017-02-09 09:07:03.936620',\n",
       "  'thisisadummycookiehopefullyitworks',\n",
       "  None,\n",
       "  None),\n",
       " (21,\n",
       "  'redacted',\n",
       "  None,\n",
       "  1,\n",
       "  '2017-02-09 09:07:03.936620',\n",
       "  'thisisadummycookiehopefullyitworks',\n",
       "  None,\n",
       "  None),\n",
       " (22,\n",
       "  'redacted',\n",
       "  None,\n",
       "  0,\n",
       "  '2017-02-09 09:07:03.936620',\n",
       "  'thisisadummycookiehopefullyitworks',\n",
       "  None,\n",
       "  None),\n",
       " (24,\n",
       "  'redacted',\n",
       "  None,\n",
       "  0,\n",
       "  '2017-02-09 09:07:03.936620',\n",
       "  'thisisadummycookiehopefullyitworks',\n",
       "  None,\n",
       "  None)]"
      ]
     },
     "execution_count": 173,
     "metadata": {},
     "output_type": "execute_result"
    }
   ],
   "source": [
    "c.execute('SELECT * FROM users LIMIT 20')\n",
    "c.fetchall()"
   ]
  },
  {
   "cell_type": "code",
   "execution_count": null,
   "metadata": {
    "collapsed": true
   },
   "outputs": [],
   "source": []
  }
 ],
 "metadata": {
  "anaconda-cloud": {},
  "kernelspec": {
   "display_name": "Python [default]",
   "language": "python",
   "name": "python3"
  },
  "language_info": {
   "codemirror_mode": {
    "name": "ipython",
    "version": 3
   },
   "file_extension": ".py",
   "mimetype": "text/x-python",
   "name": "python",
   "nbconvert_exporter": "python",
   "pygments_lexer": "ipython3",
   "version": "3.5.2"
  }
 },
 "nbformat": 4,
 "nbformat_minor": 0
}
